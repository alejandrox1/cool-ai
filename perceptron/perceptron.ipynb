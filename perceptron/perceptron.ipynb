{
 "cells": [
  {
   "cell_type": "code",
   "execution_count": 136,
   "metadata": {},
   "outputs": [],
   "source": [
    "import numpy as np\n",
    "\n",
    "class Perceptron(object):\n",
    "    \"\"\" Perceptron Classifier\n",
    "    \n",
    "    * Learn a model by calling the fit() method.\n",
    "    * Make prediction by calling a the predict() method.\n",
    "    \n",
    "    Parameters\n",
    "    -----------\n",
    "    eta: float\n",
    "        Learning rate (between 0.0 and 1.0).\n",
    "    n: int\n",
    "        Number of epochs for training.\n",
    "    seed: int\n",
    "        Seed for random number generation.\n",
    "        \n",
    "    Attributes\n",
    "    -----------\n",
    "    w_: 1d array\n",
    "        Feature weights.\n",
    "    errors_: list\n",
    "        Number of misclassifications in each epoch.\n",
    "    \"\"\"\n",
    "    def __init__(self, eta=0.01, n=100, seed=10):\n",
    "        self.eta  = eta\n",
    "        self.n    = n\n",
    "        self.seed = seed\n",
    "        \n",
    "    def fit(self, X, y):\n",
    "        \"\"\" Fit training data\n",
    "        \n",
    "        Learn a model based on the given feature matrix and outputs\n",
    "        vector.\n",
    "        \n",
    "        Parameters\n",
    "        -----------\n",
    "        X: {array-like}, shape = [n_examples, n_features]\n",
    "            Feature matrix of size examples x features.\n",
    "        y: {array-like}, shape = [n_examples]\n",
    "            Target values for each example.\n",
    "            \n",
    "        Returns\n",
    "        --------\n",
    "        self: object\n",
    "        \"\"\"\n",
    "        rg = np.random.default_rng(self.seed)\n",
    "        self.w_ = rg.normal(loc=0.0, scale=0.01, size=1+X.shape[1])\n",
    "        self.errors_ = []\n",
    "        \n",
    "        for _ in range(self.n):\n",
    "            errors = 0\n",
    "            for xi, target in zip(X, y):\n",
    "                update = self.eta * (target - self.predict(xi))\n",
    "                self.w_[0]  += update\n",
    "                self.w_[1:] += update * xi\n",
    "                errors += int(update != 0.0)\n",
    "            self.errors_.append(errors)\n",
    "        return self\n",
    "    \n",
    "    def predict(self, x):\n",
    "        \"\"\" Apply step functin to net input \"\"\"\n",
    "        return np.where(self.net_input(x) >= 0.0, 1, -1)\n",
    "        \n",
    "    def net_input(self, x):\n",
    "        \"\"\" Calculate w^t * x \"\"\"\n",
    "        return np.dot(x, self.w_[1:]) + self.w_[0]"
   ]
  },
  {
   "cell_type": "code",
   "execution_count": 137,
   "metadata": {},
   "outputs": [
    {
     "data": {
      "text/plain": [
       "[]"
      ]
     },
     "execution_count": 137,
     "metadata": {},
     "output_type": "execute_result"
    },
    {
     "data": {
      "image/png": "[encoded data removed]",
      "text/plain": [
       "<Figure size 432x288 with 1 Axes>"
      ]
     },
     "metadata": {
      "needs_background": "light"
     },
     "output_type": "display_data"
    }
   ],
   "source": [
    "import matplotlib.pyplot as plt\n",
    "\n",
    "random_seed = 1\n",
    "mu = 0.0     # Average.\n",
    "sigma = 0.1  # Standard deviation.\n",
    "\n",
    "# Draw 'size' number of samples from a Gaussian distribution.\n",
    "rg = np.random.default_rng(random_seed)\n",
    "x = rg.normal(loc=mu, scale=sigma, size=1000)\n",
    "\n",
    "# Bin the data such that the result 'count' is normalized to form a probability density\n",
    "# (the area under the probability density will be 1).\n",
    "count, bins, _ = plt.hist(x, bins=50, density=True)\n",
    "\n",
    "# Plot the bins and the expression for the probability density function of Gaussian dsitribution.\n",
    "plt.plot(\n",
    "    bins,\n",
    "    1/(sigma * np.sqrt(2*np.pi)) * np.exp( -(bins-mu)**2 / (2*sigma**2) ),\n",
    "    linewidth=3, color='r')\n",
    "plt.plot()"
   ]
  },
  {
   "cell_type": "code",
   "execution_count": 138,
   "metadata": {},
   "outputs": [
    {
     "data": {
      "text/html": [
       "<div>\n",
       "<style scoped>\n",
       "    .dataframe tbody tr th:only-of-type {\n",
       "        vertical-align: middle;\n",
       "    }\n",
       "\n",
       "    .dataframe tbody tr th {\n",
       "        vertical-align: top;\n",
       "    }\n",
       "\n",
       "    .dataframe thead th {\n",
       "        text-align: right;\n",
       "    }\n",
       "</style>\n",
       "<table border=\"1\" class=\"dataframe\">\n",
       "  <thead>\n",
       "    <tr style=\"text-align: right;\">\n",
       "      <th></th>\n",
       "      <th>0</th>\n",
       "      <th>1</th>\n",
       "      <th>2</th>\n",
       "      <th>3</th>\n",
       "      <th>4</th>\n",
       "    </tr>\n",
       "  </thead>\n",
       "  <tbody>\n",
       "    <tr>\n",
       "      <th>0</th>\n",
       "      <td>5.1</td>\n",
       "      <td>3.5</td>\n",
       "      <td>1.4</td>\n",
       "      <td>0.2</td>\n",
       "      <td>Iris-setosa</td>\n",
       "    </tr>\n",
       "    <tr>\n",
       "      <th>1</th>\n",
       "      <td>4.9</td>\n",
       "      <td>3.0</td>\n",
       "      <td>1.4</td>\n",
       "      <td>0.2</td>\n",
       "      <td>Iris-setosa</td>\n",
       "    </tr>\n",
       "    <tr>\n",
       "      <th>2</th>\n",
       "      <td>4.7</td>\n",
       "      <td>3.2</td>\n",
       "      <td>1.3</td>\n",
       "      <td>0.2</td>\n",
       "      <td>Iris-setosa</td>\n",
       "    </tr>\n",
       "    <tr>\n",
       "      <th>3</th>\n",
       "      <td>4.6</td>\n",
       "      <td>3.1</td>\n",
       "      <td>1.5</td>\n",
       "      <td>0.2</td>\n",
       "      <td>Iris-setosa</td>\n",
       "    </tr>\n",
       "    <tr>\n",
       "      <th>4</th>\n",
       "      <td>5.0</td>\n",
       "      <td>3.6</td>\n",
       "      <td>1.4</td>\n",
       "      <td>0.2</td>\n",
       "      <td>Iris-setosa</td>\n",
       "    </tr>\n",
       "  </tbody>\n",
       "</table>\n",
       "</div>"
      ],
      "text/plain": [
       "     0    1    2    3            4\n",
       "0  5.1  3.5  1.4  0.2  Iris-setosa\n",
       "1  4.9  3.0  1.4  0.2  Iris-setosa\n",
       "2  4.7  3.2  1.3  0.2  Iris-setosa\n",
       "3  4.6  3.1  1.5  0.2  Iris-setosa\n",
       "4  5.0  3.6  1.4  0.2  Iris-setosa"
      ]
     },
     "execution_count": 138,
     "metadata": {},
     "output_type": "execute_result"
    }
   ],
   "source": [
    "import os\n",
    "import pandas as pd\n",
    "\n",
    "s = \"https://archive.ics.uci.edu/ml/machine-learning-databases/iris/iris.data\"\n",
    "df = pd.read_csv(s, header=None, encoding=\"utf-8\")\n",
    "\n",
    "df.head()"
   ]
  },
  {
   "cell_type": "code",
   "execution_count": 139,
   "metadata": {},
   "outputs": [
    {
     "data": {
      "text/html": [
       "<div>\n",
       "<style scoped>\n",
       "    .dataframe tbody tr th:only-of-type {\n",
       "        vertical-align: middle;\n",
       "    }\n",
       "\n",
       "    .dataframe tbody tr th {\n",
       "        vertical-align: top;\n",
       "    }\n",
       "\n",
       "    .dataframe thead th {\n",
       "        text-align: right;\n",
       "    }\n",
       "</style>\n",
       "<table border=\"1\" class=\"dataframe\">\n",
       "  <thead>\n",
       "    <tr style=\"text-align: right;\">\n",
       "      <th></th>\n",
       "      <th>0</th>\n",
       "      <th>1</th>\n",
       "      <th>2</th>\n",
       "      <th>3</th>\n",
       "      <th>4</th>\n",
       "    </tr>\n",
       "  </thead>\n",
       "  <tbody>\n",
       "    <tr>\n",
       "      <th>145</th>\n",
       "      <td>6.7</td>\n",
       "      <td>3.0</td>\n",
       "      <td>5.2</td>\n",
       "      <td>2.3</td>\n",
       "      <td>Iris-virginica</td>\n",
       "    </tr>\n",
       "    <tr>\n",
       "      <th>146</th>\n",
       "      <td>6.3</td>\n",
       "      <td>2.5</td>\n",
       "      <td>5.0</td>\n",
       "      <td>1.9</td>\n",
       "      <td>Iris-virginica</td>\n",
       "    </tr>\n",
       "    <tr>\n",
       "      <th>147</th>\n",
       "      <td>6.5</td>\n",
       "      <td>3.0</td>\n",
       "      <td>5.2</td>\n",
       "      <td>2.0</td>\n",
       "      <td>Iris-virginica</td>\n",
       "    </tr>\n",
       "    <tr>\n",
       "      <th>148</th>\n",
       "      <td>6.2</td>\n",
       "      <td>3.4</td>\n",
       "      <td>5.4</td>\n",
       "      <td>2.3</td>\n",
       "      <td>Iris-virginica</td>\n",
       "    </tr>\n",
       "    <tr>\n",
       "      <th>149</th>\n",
       "      <td>5.9</td>\n",
       "      <td>3.0</td>\n",
       "      <td>5.1</td>\n",
       "      <td>1.8</td>\n",
       "      <td>Iris-virginica</td>\n",
       "    </tr>\n",
       "  </tbody>\n",
       "</table>\n",
       "</div>"
      ],
      "text/plain": [
       "       0    1    2    3               4\n",
       "145  6.7  3.0  5.2  2.3  Iris-virginica\n",
       "146  6.3  2.5  5.0  1.9  Iris-virginica\n",
       "147  6.5  3.0  5.2  2.0  Iris-virginica\n",
       "148  6.2  3.4  5.4  2.3  Iris-virginica\n",
       "149  5.9  3.0  5.1  1.8  Iris-virginica"
      ]
     },
     "execution_count": 139,
     "metadata": {},
     "output_type": "execute_result"
    }
   ],
   "source": [
    "df.tail()"
   ]
  },
  {
   "cell_type": "code",
   "execution_count": 140,
   "metadata": {},
   "outputs": [
    {
     "data": {
      "text/plain": [
       "array([-1, -1, -1, -1, -1, -1, -1, -1, -1, -1, -1, -1, -1, -1, -1, -1, -1,\n",
       "       -1, -1, -1, -1, -1, -1, -1, -1, -1, -1, -1, -1, -1, -1, -1, -1, -1,\n",
       "       -1, -1, -1, -1, -1, -1, -1, -1, -1, -1, -1, -1, -1, -1, -1, -1,  1,\n",
       "        1,  1,  1,  1,  1,  1,  1,  1,  1,  1,  1,  1,  1,  1,  1,  1,  1,\n",
       "        1,  1,  1,  1,  1,  1,  1,  1,  1,  1,  1,  1,  1,  1,  1,  1,  1,\n",
       "        1,  1,  1,  1,  1,  1,  1,  1,  1,  1,  1,  1,  1,  1,  1])"
      ]
     },
     "execution_count": 140,
     "metadata": {},
     "output_type": "execute_result"
    }
   ],
   "source": [
    "# We will extract the first 100 samples which correspond to iris-setosa and iris-versicolor.\n",
    "# We will also convert the class labels into integers: 1 for versicolor and -1 for setosa.\n",
    "\n",
    "y = df.iloc[0:100, 4].values\n",
    "y = np.where(y == \"Iris-setosa\", -1, 1)\n",
    "y"
   ]
  },
  {
   "cell_type": "code",
   "execution_count": 141,
   "metadata": {},
   "outputs": [
    {
     "data": {
      "image/png": "[encoded data removed]",
      "text/plain": [
       "<Figure size 432x288 with 1 Axes>"
      ]
     },
     "metadata": {
      "needs_background": "light"
     },
     "output_type": "display_data"
    }
   ],
   "source": [
    "# We will only use the sepal length and petal length as features.\n",
    "X = df.iloc[0:100, [0,2]].values\n",
    "\n",
    "plt.scatter(X[:50, 0], X[:50, 1], color=\"red\", marker='o', label=\"setosa\")\n",
    "plt.scatter(X[50:100, 0], X[50:100, 1], color=\"blue\", marker='x', label=\"versicolor\")\n",
    "\n",
    "plt.xlabel(\"Sepal length [cm]\")\n",
    "plt.ylabel(\"Petal length [cm]\")\n",
    "plt.legend()\n",
    "plt.show()"
   ]
  },
  {
   "cell_type": "code",
   "execution_count": 142,
   "metadata": {},
   "outputs": [
    {
     "data": {
      "image/png": "[encoded data removed]",
      "text/plain": [
       "<Figure size 432x288 with 1 Axes>"
      ]
     },
     "metadata": {
      "needs_background": "light"
     },
     "output_type": "display_data"
    }
   ],
   "source": [
    "perceptron = Perceptron(eta=0.1, n=10, seed=10)\n",
    "perceptron.fit(X, y)\n",
    "\n",
    "plt.plot(range(1, len(perceptron.errors_)+1), perceptron.errors_, marker='o')\n",
    "plt.xlabel(\"Epochs\")\n",
    "plt.ylabel(\"Number of updates\")\n",
    "plt.show()"
   ]
  },
  {
   "cell_type": "code",
   "execution_count": 143,
   "metadata": {},
   "outputs": [
    {
     "data": {
      "image/png": "[encoded data removed]",
      "text/plain": [
       "<Figure size 432x288 with 1 Axes>"
      ]
     },
     "metadata": {
      "needs_background": "light"
     },
     "output_type": "display_data"
    }
   ],
   "source": [
    "# A useful utility function to evaluate functions on a grid is np.meshgrid.\n",
    "# https://numpy.org/doc/1.18/reference/generated/numpy.meshgrid.html\n",
    "#\n",
    "# This function will generate \"coordinate matrices\"\n",
    "# (a collection of coordinate vectors that describe a position in terms of the x_example and y_example basis).\n",
    "x_example = np.arange(-5, 5, 0.1)\n",
    "y_example = np.arange(-5, 5, 0.1)\n",
    "\n",
    "xx_example, yy_example = np.meshgrid(x_example, y_example)\n",
    "\n",
    "z_example = np.sin(xx_example**2 + yy_example**2) / (xx_example**2 + yy_example**2)\n",
    "h = plt.contourf(x_example, y_example, z_example)\n",
    "plt.show()"
   ]
  },
  {
   "cell_type": "code",
   "execution_count": 144,
   "metadata": {},
   "outputs": [
    {
     "name": "stdout",
     "output_type": "stream",
     "text": [
      "[0 1 2 3 4]\n",
      "[ 0  2  4  6  8 10]\n",
      "[[0 1 2 3 4]\n",
      " [0 1 2 3 4]\n",
      " [0 1 2 3 4]\n",
      " [0 1 2 3 4]\n",
      " [0 1 2 3 4]\n",
      " [0 1 2 3 4]]\n",
      "[[ 0  0  0  0  0]\n",
      " [ 2  2  2  2  2]\n",
      " [ 4  4  4  4  4]\n",
      " [ 6  6  6  6  6]\n",
      " [ 8  8  8  8  8]\n",
      " [10 10 10 10 10]]\n"
     ]
    }
   ],
   "source": [
    "x_example = np.arange(0, 5, 1)\n",
    "y_example = np.arange(0, 12, 2)\n",
    "\n",
    "xx_example, yy_example = np.meshgrid(x_example, y_example)\n",
    "\n",
    "print(x_example)   # 1 x 5 matrix\n",
    "print(y_example)   # 1 x 6 matrix\n",
    "print(xx_example)  # 6 x 5 matrix: steps in the x dimension for each y position.\n",
    "print(yy_example)  # 5 x 6 matrix: steps in the y dimension for each x position."
   ]
  },
  {
   "cell_type": "code",
   "execution_count": 147,
   "metadata": {},
   "outputs": [
    {
     "name": "stdout",
     "output_type": "stream",
     "text": [
      "[0 1 2 3 4 0 1 2 3 4 0 1 2 3 4 0 1 2 3 4 0 1 2 3 4 0 1 2 3 4]\n",
      "(30,)\n"
     ]
    }
   ],
   "source": [
    "temp = xx_example.ravel()\n",
    "print(temp)\n",
    "print(temp.shape)"
   ]
  },
  {
   "cell_type": "code",
   "execution_count": 148,
   "metadata": {},
   "outputs": [
    {
     "name": "stdout",
     "output_type": "stream",
     "text": [
      "[ 0  0  0  0  0  2  2  2  2  2  4  4  4  4  4  6  6  6  6  6  8  8  8  8\n",
      "  8 10 10 10 10 10]\n",
      "(30,)\n"
     ]
    }
   ],
   "source": [
    "temp = yy_example.ravel()\n",
    "print(temp)\n",
    "print(temp.shape)"
   ]
  },
  {
   "cell_type": "code",
   "execution_count": 149,
   "metadata": {},
   "outputs": [
    {
     "name": "stdout",
     "output_type": "stream",
     "text": [
      "[[ 0  1  2  3  4  0  1  2  3  4  0  1  2  3  4  0  1  2  3  4  0  1  2  3\n",
      "   4  0  1  2  3  4]\n",
      " [ 0  0  0  0  0  2  2  2  2  2  4  4  4  4  4  6  6  6  6  6  8  8  8  8\n",
      "   8 10 10 10 10 10]]\n",
      "(2, 30)\n"
     ]
    }
   ],
   "source": [
    "temp = np.array([xx_example.ravel(), yy_example.ravel()])\n",
    "print(temp)\n",
    "print(temp.shape)"
   ]
  },
  {
   "cell_type": "code",
   "execution_count": 150,
   "metadata": {},
   "outputs": [
    {
     "name": "stdout",
     "output_type": "stream",
     "text": [
      "[[ 0  0]\n",
      " [ 1  0]\n",
      " [ 2  0]\n",
      " [ 3  0]\n",
      " [ 4  0]\n",
      " [ 0  2]\n",
      " [ 1  2]\n",
      " [ 2  2]\n",
      " [ 3  2]\n",
      " [ 4  2]\n",
      " [ 0  4]\n",
      " [ 1  4]\n",
      " [ 2  4]\n",
      " [ 3  4]\n",
      " [ 4  4]\n",
      " [ 0  6]\n",
      " [ 1  6]\n",
      " [ 2  6]\n",
      " [ 3  6]\n",
      " [ 4  6]\n",
      " [ 0  8]\n",
      " [ 1  8]\n",
      " [ 2  8]\n",
      " [ 3  8]\n",
      " [ 4  8]\n",
      " [ 0 10]\n",
      " [ 1 10]\n",
      " [ 2 10]\n",
      " [ 3 10]\n",
      " [ 4 10]]\n",
      "(30, 2)\n"
     ]
    }
   ],
   "source": [
    "temp = np.array([xx_example.ravel(), yy_example.ravel()]).T\n",
    "print(temp)\n",
    "print(temp.shape)"
   ]
  },
  {
   "cell_type": "code",
   "execution_count": 155,
   "metadata": {},
   "outputs": [
    {
     "name": "stdout",
     "output_type": "stream",
     "text": [
      "(71675,)\n",
      "(235, 305)\n",
      "(235, 305)\n"
     ]
    }
   ],
   "source": [
    "# Calculate the minimum and maximum values for feature 1.\n",
    "x1_min, x1_max = X[:, 0].min() - 1, X[:, 0].max() + 1\n",
    "\n",
    "# Calculate the minimum and maximum values for feature 2. \n",
    "x2_min, x2_max = X[:, 1].min() - 1, X[:, 1].max() + 1\n",
    "\n",
    "# Meshgrids takes as input multiple 1d arrays, each representing positions along a dimension.\n",
    "resolution = 0.02\n",
    "xx1, xx2 = np.meshgrid(\n",
    "    np.arange(x1_min, x1_max, resolution),\n",
    "    np.arange(x2_min, x2_max, resolution),\n",
    "    indexing=\"ij\")\n",
    "    \n",
    "Z = perceptron.predict(np.array([xx1.ravel(), xx2.ravel()]).T)\n",
    "print(Z.shape)\n",
    "\n",
    "Z = Z.reshape(xx1.shape)\n",
    "print(Z.shape)\n",
    "print(xx1.shape)"
   ]
  },
  {
   "cell_type": "code",
   "execution_count": 156,
   "metadata": {},
   "outputs": [
    {
     "data": {
      "image/png": "[encoded data removed]",
      "text/plain": [
       "<Figure size 432x288 with 1 Axes>"
      ]
     },
     "metadata": {
      "needs_background": "light"
     },
     "output_type": "display_data"
    }
   ],
   "source": [
    "from matplotlib.colors import ListedColormap\n",
    "\n",
    "markers = ('s', 'x', 'o', '^', 'v')\n",
    "colors = ('red', 'blue', 'lightgreen', 'gray', 'cyan')\n",
    "cmap = ListedColormap(colors[:len(np.unique(y))])\n",
    "    \n",
    "plt.contourf(xx1, xx2, Z, alpha=0.3, cmap=cmap)\n",
    "plt.xlim(xx1.min(), xx1.max())\n",
    "plt.ylim(xx2.min(), xx2.max())\n",
    "\n",
    "# plot class examples\n",
    "for idx, cl in enumerate(np.unique(y)):\n",
    "    plt.scatter(x=X[y == cl, 0], \n",
    "                y=X[y == cl, 1],\n",
    "                alpha=0.8, \n",
    "                c=colors[idx],\n",
    "                marker=markers[idx], \n",
    "                label=cl, \n",
    "                edgecolor=\"black\")\n",
    "    \n",
    "plt.xlabel(\"sepal length [cm]\")\n",
    "plt.ylabel(\"petal length [cm]\")\n",
    "plt.legend()\n",
    "\n",
    "plt.show()"
   ]
  },
  {
   "cell_type": "code",
   "execution_count": null,
   "metadata": {},
   "outputs": [],
   "source": []
  }
 ],
 "metadata": {
  "kernelspec": {
   "display_name": "Python 3",
   "language": "python",
   "name": "python3"
  },
  "language_info": {
   "codemirror_mode": {
    "name": "ipython",
    "version": 3
   },
   "file_extension": ".py",
   "mimetype": "text/x-python",
   "name": "python",
   "nbconvert_exporter": "python",
   "pygments_lexer": "ipython3",
   "version": "3.7.6"
  }
 },
 "nbformat": 4,
 "nbformat_minor": 4
}
